{
 "cells": [
  {
   "cell_type": "code",
   "execution_count": 1,
   "id": "52bccf91",
   "metadata": {},
   "outputs": [],
   "source": [
    "import os\n",
    "import pandas as pd\n",
    "import time\n",
    "import subprocess\n",
    "import re"
   ]
  },
  {
   "cell_type": "code",
   "execution_count": 27,
   "id": "f85c8ae7",
   "metadata": {},
   "outputs": [
    {
     "data": {
      "text/plain": [
       "['data/10-1-10.0',\n",
       " 'data/10-10-20.0',\n",
       " 'data/20-1-10.0',\n",
       " 'data/20-10-20.0',\n",
       " 'data/20-50-100.0',\n",
       " 'data/50-1-10.0',\n",
       " 'data/50-10-20.0',\n",
       " 'data/50-50-100.0']"
      ]
     },
     "execution_count": 27,
     "metadata": {},
     "output_type": "execute_result"
    }
   ],
   "source": [
    "files = os.listdir(\"data\")\n",
    "files = [os.path.join(\"data\", f) for f in files] \n",
    "files.sort()\n",
    "files\n"
   ]
  },
  {
   "cell_type": "code",
   "execution_count": 57,
   "id": "29f5c7cc",
   "metadata": {},
   "outputs": [
    {
     "name": "stdout",
     "output_type": "stream",
     "text": [
      "0\n",
      "0\n",
      "0\n",
      "0\n",
      "0\n",
      "0\n",
      "0\n",
      "0\n"
     ]
    }
   ],
   "source": [
    "n = 2\n",
    "filename = []\n",
    "cmax = []\n",
    "kval = []\n",
    "# files = ['data/10-10-20.0']\n",
    "# files = ['data1/200-50-100.0']\n",
    "t = 0\n",
    "repeats = 1\n",
    "for file in files:\n",
    "    for _ in range(repeats):\n",
    "        tasks = file.split('/')[-1].split('-')[0]\n",
    "        # kvalue =   3*int(tasks) / 4\n",
    "        command = [\"./a.out\", str(n), file, \"FPTAS\", str(2) ]\n",
    "        # print(command)\n",
    "        t0 = time.time_ns()\n",
    "        result = subprocess.run(command, check=True, capture_output=True, text=True)\n",
    "        stdout_output = result.stdout.strip()\n",
    "        t1 = time.time_ns()\n",
    "        # print(result.stdout)\n",
    "        # print(f\"Time: {t1-t0}\")\n",
    "        # times.append(t1-t0)\n",
    "        cmax_int = int(re.findall(r'Cmax:\\s*(\\d+)', stdout_output)[-1])\n",
    "        # print(file.split('/')[1], cmax_int)  # Output: 738\n",
    "        print(cmax_int)\n",
    "        # filename.append(file)\n",
    "        # cmax.append(cmax_int)\n",
    "        took = t1 - t0\n",
    "        t += took\n",
    "        # print(\"one done\")\n",
    "    t /= repeats\n",
    "    # print(round(t/1000000, 3))\n"
   ]
  }
 ],
 "metadata": {
  "kernelspec": {
   "display_name": "Python 3",
   "language": "python",
   "name": "python3"
  },
  "language_info": {
   "codemirror_mode": {
    "name": "ipython",
    "version": 3
   },
   "file_extension": ".py",
   "mimetype": "text/x-python",
   "name": "python",
   "nbconvert_exporter": "python",
   "pygments_lexer": "ipython3",
   "version": "3.11.2"
  }
 },
 "nbformat": 4,
 "nbformat_minor": 5
}
