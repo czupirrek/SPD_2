{
 "cells": [
  {
   "cell_type": "code",
   "execution_count": 1,
   "id": "7f619412",
   "metadata": {},
   "outputs": [],
   "source": [
    "import random\n",
    "import os"
   ]
  },
  {
   "cell_type": "code",
   "execution_count": null,
   "id": "72818b88",
   "metadata": {},
   "outputs": [],
   "source": [
    "N_initial = 10\n",
    "N_increment = 5\n",
    "files_to_generate = 15"
   ]
  },
  {
   "cell_type": "code",
   "execution_count": null,
   "id": "d1a693ec",
   "metadata": {},
   "outputs": [],
   "source": [
    "for i in range(files_to_generate):\n",
    "    print(i)\n",
    "    with open(f\"artificial/{N_initial}\", \"w\") as file:\n",
    "        file.write(f\"{N_initial}\\n\")\n",
    "        for _ in range(0, N_initial):\n",
    "            file.write(f\"{random.randint(0,5000)} {random.randint(0,5000)} {random.randint(0,50000)}\\n\")\n",
    "    N_initial += N_increment\n",
    "    # if i % 10 == 0:\n",
    "    #     print(i)"
   ]
  }
 ],
 "metadata": {
  "kernelspec": {
   "display_name": "Python 3",
   "language": "python",
   "name": "python3"
  },
  "language_info": {
   "codemirror_mode": {
    "name": "ipython",
    "version": 3
   },
   "file_extension": ".py",
   "mimetype": "text/x-python",
   "name": "python",
   "nbconvert_exporter": "python",
   "pygments_lexer": "ipython3",
   "version": "3.11.2"
  }
 },
 "nbformat": 4,
 "nbformat_minor": 5
}
