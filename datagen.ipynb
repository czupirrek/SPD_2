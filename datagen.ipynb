{
 "cells": [
  {
   "cell_type": "code",
   "execution_count": 1,
   "id": "7f619412",
   "metadata": {},
   "outputs": [],
   "source": [
    "import random\n",
    "import os"
   ]
  },
  {
   "cell_type": "code",
   "execution_count": 38,
   "id": "72818b88",
   "metadata": {},
   "outputs": [],
   "source": [
    "N_open = 50\n",
    "N_close = 100\n",
    "N_tasks = 1000\n",
    "N_instances = 1\n",
    "folder = \"data1\""
   ]
  },
  {
   "cell_type": "code",
   "execution_count": 39,
   "id": "d1a693ec",
   "metadata": {},
   "outputs": [
    {
     "name": "stdout",
     "output_type": "stream",
     "text": [
      "0\n"
     ]
    }
   ],
   "source": [
    "for i in range(N_instances):\n",
    "    print(i)\n",
    "    fname = f\"{N_tasks}-{N_open}-{N_close}.{i}\"\n",
    "    with open(f\"{folder}/{fname}\", \"w\") as file:\n",
    "        file.write(f\"{N_tasks}\\n\")\n",
    "        for _ in range(0, N_tasks):\n",
    "            file.write(f\"{random.randint(N_open, N_close)}\\n\")"
   ]
  }
 ],
 "metadata": {
  "kernelspec": {
   "display_name": "Python 3",
   "language": "python",
   "name": "python3"
  },
  "language_info": {
   "codemirror_mode": {
    "name": "ipython",
    "version": 3
   },
   "file_extension": ".py",
   "mimetype": "text/x-python",
   "name": "python",
   "nbconvert_exporter": "python",
   "pygments_lexer": "ipython3",
   "version": "3.11.2"
  }
 },
 "nbformat": 4,
 "nbformat_minor": 5
}
